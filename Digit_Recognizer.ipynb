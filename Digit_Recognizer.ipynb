{
  "nbformat": 4,
  "nbformat_minor": 0,
  "metadata": {
    "colab": {
      "name": "Digit_Recognizer.ipynb",
      "provenance": [],
      "collapsed_sections": []
    },
    "kernelspec": {
      "display_name": "Python 3",
      "name": "python3"
    }
  },
  "cells": [
    {
      "cell_type": "code",
      "metadata": {
        "id": "yPQ6tki-99kr"
      },
      "source": [
        "import pandas as pd\n",
        "import matplotlib.pyplot as plt\n",
        "import numpy as np\n",
        "import tensorflow as tf\n",
        "from sklearn.model_selection import train_test_split\n",
        "from sklearn.preprocessing import MinMaxScaler"
      ],
      "execution_count": null,
      "outputs": []
    },
    {
      "cell_type": "code",
      "metadata": {
        "id": "5KPLUiy8-GC2"
      },
      "source": [
        "data = pd.read_csv('drive/My Drive/digit-recognizer/train.csv')"
      ],
      "execution_count": null,
      "outputs": []
    },
    {
      "cell_type": "code",
      "metadata": {
        "id": "BYiQOhqn70kp"
      },
      "source": [
        "labels = data.loc[:, 'label']\n",
        "data = data.loc[:, 'pixel0':]"
      ],
      "execution_count": null,
      "outputs": []
    },
    {
      "cell_type": "code",
      "metadata": {
        "id": "3n6JsetV_c0y"
      },
      "source": [
        "normalizer_for_data = MinMaxScaler(feature_range=(0, 1))"
      ],
      "execution_count": null,
      "outputs": []
    },
    {
      "cell_type": "code",
      "metadata": {
        "id": "KrBA3sibC-O0"
      },
      "source": [
        "for column in data.columns:\n",
        "  data.loc[:, column] = normalizer_for_data.fit_transform(X=np.array(data.loc[:, column]).reshape(-1, 1))"
      ],
      "execution_count": null,
      "outputs": []
    },
    {
      "cell_type": "code",
      "metadata": {
        "id": "I-yq6ut79nnT"
      },
      "source": [
        "train_data, test_data, train_labels, test_labels = train_test_split(data, labels, train_size=0.8, test_size=0.2)"
      ],
      "execution_count": null,
      "outputs": []
    },
    {
      "cell_type": "code",
      "metadata": {
        "id": "VPf3EZmkFBNb"
      },
      "source": [
        "cnn = tf.keras.Sequential()"
      ],
      "execution_count": null,
      "outputs": []
    },
    {
      "cell_type": "code",
      "metadata": {
        "id": "IWGbahF2HIsn"
      },
      "source": [
        "cnn.add(tf.keras.layers.Conv2D(filters=32, kernel_size=(3, 3), strides=(1, 1), padding='same', activation='relu', input_shape=(28, 28, 1)))"
      ],
      "execution_count": null,
      "outputs": []
    },
    {
      "cell_type": "code",
      "metadata": {
        "id": "hLHd9DyEHldB"
      },
      "source": [
        "cnn.add(tf.keras.layers.MaxPool2D(pool_size=(2, 2), strides=(1, 1)))"
      ],
      "execution_count": null,
      "outputs": []
    },
    {
      "cell_type": "code",
      "metadata": {
        "id": "kqn6Yj9pHx8i"
      },
      "source": [
        "cnn.add(tf.keras.layers.Conv2D(filters=10, kernel_size=(3, 3), strides=(1, 1), padding='same', activation='relu'))"
      ],
      "execution_count": null,
      "outputs": []
    },
    {
      "cell_type": "code",
      "metadata": {
        "id": "aIT3CpP2H0EC"
      },
      "source": [
        "cnn.add(tf.keras.layers.MaxPool2D(pool_size=(2, 2), strides=(1, 1), padding='same'))"
      ],
      "execution_count": null,
      "outputs": []
    },
    {
      "cell_type": "code",
      "metadata": {
        "id": "0W9XcoJD4Q0B"
      },
      "source": [
        "cnn.add(tf.keras.layers.Flatten())"
      ],
      "execution_count": null,
      "outputs": []
    },
    {
      "cell_type": "code",
      "metadata": {
        "id": "ZqanIO-0H1pd"
      },
      "source": [
        "cnn.add(tf.keras.layers.Dense(units=128, activation='relu'))"
      ],
      "execution_count": null,
      "outputs": []
    },
    {
      "cell_type": "code",
      "metadata": {
        "id": "qZnJLVDJIB9X"
      },
      "source": [
        "cnn.add(tf.keras.layers.Dense(units=10, activation='softmax'))"
      ],
      "execution_count": null,
      "outputs": []
    },
    {
      "cell_type": "code",
      "metadata": {
        "id": "bvkUUrEDIVuT"
      },
      "source": [
        "cnn.compile(optimizer=tf.keras.optimizers.Adam(), loss=tf.keras.losses.SparseCategoricalCrossentropy(), metrics=[tf.keras.metrics.SparseCategoricalAccuracy()])"
      ],
      "execution_count": null,
      "outputs": []
    },
    {
      "cell_type": "code",
      "metadata": {
        "id": "X2IfQnLdSXQ4"
      },
      "source": [
        "train_data_array = np.array(train_data)"
      ],
      "execution_count": null,
      "outputs": []
    },
    {
      "cell_type": "code",
      "metadata": {
        "id": "hFbbQRXhSYFO"
      },
      "source": [
        "test_data_array = np.array(test_data)"
      ],
      "execution_count": null,
      "outputs": []
    },
    {
      "cell_type": "code",
      "metadata": {
        "id": "Ll0ABKVifjty",
        "colab": {
          "base_uri": "https://localhost:8080/",
          "height": 85
        },
        "outputId": "3e704795-b965-490a-9993-b5221a51af25"
      },
      "source": [
        "print(f'train_data: {train_data.shape}')\n",
        "print(f'train_label: {train_labels.shape}')\n",
        "print(f'test_data: {test_data.shape}')\n",
        "print(f'test_labels: {test_labels.shape}')"
      ],
      "execution_count": null,
      "outputs": [
        {
          "output_type": "stream",
          "text": [
            "train_data: (33600, 784)\n",
            "train_label: (33600,)\n",
            "test_data: (8400, 784)\n",
            "test_labels: (8400,)\n"
          ],
          "name": "stdout"
        }
      ]
    },
    {
      "cell_type": "code",
      "metadata": {
        "id": "NZnr1nzOPqD-"
      },
      "source": [
        "train_data_array = train_data_array.reshape(train_data_array.shape[0], 28, 28, 1)"
      ],
      "execution_count": null,
      "outputs": []
    },
    {
      "cell_type": "code",
      "metadata": {
        "id": "T1wd3XL-J8G-",
        "colab": {
          "base_uri": "https://localhost:8080/",
          "height": 153
        },
        "outputId": "b323c0c6-07ec-4e44-93c7-a7db358a62b8"
      },
      "source": [
        "cnn.fit(x=train_data_array, y=train_labels, epochs=10, batch_size=32)"
      ],
      "execution_count": null,
      "outputs": [
        {
          "output_type": "stream",
          "text": [
            "1050/1050 [==============================] - 81s 77ms/step - loss: 0.0129 - sparse_categorical_accuracy: 0.9955\n",
            "Epoch 8/10\n",
            "1050/1050 [==============================] - 78s 74ms/step - loss: 0.0094 - sparse_categorical_accuracy: 0.9965\n",
            "Epoch 9/10\n",
            "1050/1050 [==============================] - 78s 74ms/step - loss: 0.0093 - sparse_categorical_accuracy: 0.9969\n",
            "Epoch 10/10\n",
            "1050/1050 [==============================] - 78s 75ms/step - loss: 0.0088 - sparse_categorical_accuracy: 0.9971\n"
          ],
          "name": "stdout"
        },
        {
          "output_type": "execute_result",
          "data": {
            "text/plain": [
              "<tensorflow.python.keras.callbacks.History at 0x7f5be1e71f60>"
            ]
          },
          "metadata": {
            "tags": []
          },
          "execution_count": 95
        }
      ]
    },
    {
      "cell_type": "code",
      "metadata": {
        "id": "uxcuJB9_tx53"
      },
      "source": [
        "test_data_array = test_data_array.reshape((test_data_array.shape[0], 28, 28, 1))"
      ],
      "execution_count": null,
      "outputs": []
    },
    {
      "cell_type": "code",
      "metadata": {
        "id": "r2b-pD9nuVDI"
      },
      "source": [
        "test_labels_array = np.array(test_labels)"
      ],
      "execution_count": null,
      "outputs": []
    },
    {
      "cell_type": "code",
      "metadata": {
        "id": "sAuGfubYuvwA",
        "colab": {
          "base_uri": "https://localhost:8080/",
          "height": 51
        },
        "outputId": "32e398a5-e728-4e08-d91b-fe07007e8126"
      },
      "source": [
        "cnn.evaluate(x=test_data_array, y=test_labels_array, batch_size=1)"
      ],
      "execution_count": null,
      "outputs": [
        {
          "output_type": "stream",
          "text": [
            "8400/8400 [==============================] - 19s 2ms/step - loss: 0.0800 - sparse_categorical_accuracy: 0.9842\n"
          ],
          "name": "stdout"
        },
        {
          "output_type": "execute_result",
          "data": {
            "text/plain": [
              "[0.07998751103878021, 0.98416668176651]"
            ]
          },
          "metadata": {
            "tags": []
          },
          "execution_count": 99
        }
      ]
    },
    {
      "cell_type": "code",
      "metadata": {
        "id": "SqG4mKOCvFcG"
      },
      "source": [
        ""
      ],
      "execution_count": null,
      "outputs": []
    }
  ]
}